{
 "cells": [
  {
   "attachments": {},
   "cell_type": "markdown",
   "metadata": {},
   "source": [
    "loading data into pandas"
   ]
  },
  {
   "cell_type": "code",
   "execution_count": 17,
   "metadata": {},
   "outputs": [
    {
     "name": "stdout",
     "output_type": "stream",
     "text": [
      "   #                   Name Type 1  Type 2  HP  Attack  Defense  Sp. Atk  \\\n",
      "0  1              Bulbasaur  Grass  Poison  45      49       49       65   \n",
      "1  2                Ivysaur  Grass  Poison  60      62       63       80   \n",
      "2  3               Venusaur  Grass  Poison  80      82       83      100   \n",
      "3  3  VenusaurMega Venusaur  Grass  Poison  80     100      123      122   \n",
      "4  4             Charmander   Fire     NaN  39      52       43       60   \n",
      "\n",
      "   Sp. Def  Speed  Generation  Legendary  \n",
      "0       65     45           1      False  \n",
      "1       80     60           1      False  \n",
      "2      100     80           1      False  \n",
      "3      120     80           1      False  \n",
      "4       50     65           1      False  \n"
     ]
    }
   ],
   "source": [
    "import pandas as pd\n",
    "\n",
    "#df for data frame\n",
    "#csv\n",
    "df = pd.read_csv('E:\\Python\\machine_learning_preparation\\pandas_tutorial\\data\\pokemon_data.csv')\n",
    "#xlsx\n",
    "df_xlsx = pd.read_excel('E:\\Python\\machine_learning_preparation\\pandas_tutorial\\data\\pokemon_data.xlsx')\n",
    "#txt\n",
    "df_txt = pd.read_csv('E:\\Python\\machine_learning_preparation\\pandas_tutorial\\data\\pokemon_data.txt', delimiter='\\t')\n",
    "\n",
    "print(df_txt.head(5))"
   ]
  },
  {
   "attachments": {},
   "cell_type": "markdown",
   "metadata": {},
   "source": [
    "reading data in pandas"
   ]
  },
  {
   "cell_type": "code",
   "execution_count": 37,
   "metadata": {},
   "outputs": [
    {
     "name": "stdout",
     "output_type": "stream",
     "text": [
      "Index(['#', 'Name', 'Type 1', 'Type 2', 'HP', 'Attack', 'Defense', 'Sp. Atk',\n",
      "       'Sp. Def', 'Speed', 'Generation', 'Legendary'],\n",
      "      dtype='object')\n",
      "------------------------------------------------------------------\n",
      "0                Bulbasaur\n",
      "1                  Ivysaur\n",
      "2                 Venusaur\n",
      "3    VenusaurMega Venusaur\n",
      "4               Charmander\n",
      "Name: Name, dtype: object\n",
      "------------------------------------------------------------------\n",
      "                    Name Type 1  HP\n",
      "0              Bulbasaur  Grass  45\n",
      "1                Ivysaur  Grass  60\n",
      "2               Venusaur  Grass  80\n",
      "3  VenusaurMega Venusaur  Grass  80\n",
      "4             Charmander   Fire  39\n",
      "------------------------------------------------------------------\n",
      "   #                   Name Type 1  Type 2  HP  Attack  Defense  Sp. Atk  \\\n",
      "0  1              Bulbasaur  Grass  Poison  45      49       49       65   \n",
      "1  2                Ivysaur  Grass  Poison  60      62       63       80   \n",
      "2  3               Venusaur  Grass  Poison  80      82       83      100   \n",
      "3  3  VenusaurMega Venusaur  Grass  Poison  80     100      123      122   \n",
      "\n",
      "   Sp. Def  Speed  Generation  Legendary  \n",
      "0       65     45           1      False  \n",
      "1       80     60           1      False  \n",
      "2      100     80           1      False  \n",
      "3      120     80           1      False  \n",
      "------------------------------------------------------------------\n",
      "   #                   Name Type 1  Type 2  HP  Attack  Defense  Sp. Atk  \\\n",
      "0  1              Bulbasaur  Grass  Poison  45      49       49       65   \n",
      "1  2                Ivysaur  Grass  Poison  60      62       63       80   \n",
      "2  3               Venusaur  Grass  Poison  80      82       83      100   \n",
      "3  3  VenusaurMega Venusaur  Grass  Poison  80     100      123      122   \n",
      "4  4             Charmander   Fire     NaN  39      52       43       60   \n",
      "\n",
      "   Sp. Def  Speed  Generation  Legendary  \n",
      "0       65     45           1      False  \n",
      "1       80     60           1      False  \n",
      "2      100     80           1      False  \n",
      "3      120     80           1      False  \n",
      "4       50     65           1      False  \n",
      "------------------------------------------------------------------\n",
      "     #                       Name Type 1  Type 2  HP  Attack  Defense  \\\n",
      "4    4                 Charmander   Fire     NaN  39      52       43   \n",
      "5    5                 Charmeleon   Fire     NaN  58      64       58   \n",
      "6    6                  Charizard   Fire  Flying  78      84       78   \n",
      "7    6  CharizardMega Charizard X   Fire  Dragon  78     130      111   \n",
      "8    6  CharizardMega Charizard Y   Fire  Flying  78     104       78   \n",
      "42  37                     Vulpix   Fire     NaN  38      41       40   \n",
      "43  38                  Ninetales   Fire     NaN  73      76       75   \n",
      "\n",
      "    Sp. Atk  Sp. Def  Speed  Generation  Legendary  \n",
      "4        60       50     65           1      False  \n",
      "5        80       65     80           1      False  \n",
      "6       109       85    100           1      False  \n",
      "7       130       85    100           1      False  \n",
      "8       159      115    100           1      False  \n",
      "42       50       65     65           1      False  \n",
      "43       81      100    100           1      False  \n",
      "------------------------------------------------------------------\n",
      "Venusaur\n"
     ]
    }
   ],
   "source": [
    "## read header\n",
    "print(df.columns)\n",
    "\n",
    "print(\"------------------------------------------------------------------\")\n",
    "\n",
    "##read each column\n",
    "print(df['Name'][0:5])\n",
    "\n",
    "print(\"------------------------------------------------------------------\")\n",
    "\n",
    "print(df[['Name', 'Type 1', 'HP']][0:5])\n",
    "\n",
    "print(\"------------------------------------------------------------------\")\n",
    "\n",
    "##read each row\n",
    "print(df.head(4))\n",
    "\n",
    "print(\"------------------------------------------------------------------\")\n",
    "\n",
    "print(df.iloc[0:5])\n",
    "\n",
    "print(\"------------------------------------------------------------------\")\n",
    "\n",
    "# for index, row in df.iterrows():\n",
    "#     print(index, row)\n",
    "#terlalu panjang, tapi bagus\n",
    "\n",
    "print(df.loc[df['Type 1'] == \"Fire\"][0:7])\n",
    "\n",
    "print(\"------------------------------------------------------------------\")\n",
    "##read a specific location (r, c)\n",
    "print(df.iloc[2,1])"
   ]
  },
  {
   "attachments": {},
   "cell_type": "markdown",
   "metadata": {},
   "source": [
    "sorting / describing data"
   ]
  },
  {
   "cell_type": "code",
   "execution_count": 50,
   "metadata": {},
   "outputs": [
    {
     "name": "stdout",
     "output_type": "stream",
     "text": [
      "       #      Name Type 1  Type 2  HP  Attack  Defense  Sp. Atk  Sp. Def  \\\n",
      "316  292  Shedinja    Bug   Ghost   1      90       45       30       30   \n",
      "230  213   Shuckle    Bug    Rock  20      10      230       10      230   \n",
      "462  415    Combee    Bug  Flying  30      30       42       30       42   \n",
      "603  543  Venipede    Bug  Poison  30      45       59       30       39   \n",
      "314  290   Nincada    Bug  Ground  31      45       90       30       30   \n",
      "\n",
      "     Speed  Generation  Legendary  \n",
      "316     40           3      False  \n",
      "230      5           2      False  \n",
      "462     70           4      False  \n",
      "603     57           5      False  \n",
      "314     40           3      False  \n",
      "------------------------------------------------------------------\n",
      "       #              Name  Type 1  Type 2   HP  Attack  Defense  Sp. Atk  \\\n",
      "794  718  Zygarde50% Forme  Dragon  Ground  108     100      121       81   \n",
      "695  634          Zweilous    Dark  Dragon   72      85       70       65   \n",
      "46    41             Zubat  Poison  Flying   40      45       35       30   \n",
      "631  570             Zorua    Dark     NaN   40      65       40       80   \n",
      "632  571           Zoroark    Dark     NaN   60     105       60      120   \n",
      "\n",
      "     Sp. Def  Speed  Generation  Legendary  \n",
      "794       95     95           6       True  \n",
      "695       70     58           5      False  \n",
      "46        40     55           1      False  \n",
      "631       40     65           5      False  \n",
      "632       60    105           5      False  \n"
     ]
    }
   ],
   "source": [
    "sort_val1 = df.sort_values(['Type 1', 'HP'], ascending=True)[0:5]\n",
    "sort_val2 = df.sort_values('Name', ascending=False)\n",
    "\n",
    "print(sort_val1)\n",
    "\n",
    "print(\"------------------------------------------------------------------\")\n",
    "\n",
    "print(sort_val2[0:5])\n",
    "\n"
   ]
  },
  {
   "attachments": {},
   "cell_type": "markdown",
   "metadata": {},
   "source": [
    "making changes to the data"
   ]
  },
  {
   "cell_type": "code",
   "execution_count": 64,
   "metadata": {},
   "outputs": [
    {
     "name": "stdout",
     "output_type": "stream",
     "text": [
      "sesudah ditambahkan column Total: \n",
      "   #                   Name Type 1  Type 2  HP  Attack  Defense  Sp. Atk  \\\n",
      "0  1              Bulbasaur  Grass  Poison  45      49       49       65   \n",
      "1  2                Ivysaur  Grass  Poison  60      62       63       80   \n",
      "2  3               Venusaur  Grass  Poison  80      82       83      100   \n",
      "3  3  VenusaurMega Venusaur  Grass  Poison  80     100      123      122   \n",
      "4  4             Charmander   Fire     NaN  39      52       43       60   \n",
      "\n",
      "   Sp. Def  Speed  Generation  Legendary  Total  Total 2  \n",
      "0       65     45           1      False    318      273  \n",
      "1       80     60           1      False    405      345  \n",
      "2      100     80           1      False    525      445  \n",
      "3      120     80           1      False    625      545  \n",
      "4       50     65           1      False    309      244  \n",
      "sesudah dihapus:\n",
      "   #                   Name Type 1  Type 2  HP  Attack  Defense  Sp. Atk  \\\n",
      "0  1              Bulbasaur  Grass  Poison  45      49       49       65   \n",
      "1  2                Ivysaur  Grass  Poison  60      62       63       80   \n",
      "2  3               Venusaur  Grass  Poison  80      82       83      100   \n",
      "3  3  VenusaurMega Venusaur  Grass  Poison  80     100      123      122   \n",
      "4  4             Charmander   Fire     NaN  39      52       43       60   \n",
      "\n",
      "   Sp. Def  Speed  Generation  Legendary  \n",
      "0       65     45           1      False  \n",
      "1       80     60           1      False  \n",
      "2      100     80           1      False  \n",
      "3      120     80           1      False  \n",
      "4       50     65           1      False  \n",
      "sesudah ditambah column Total 2:\n",
      "   #                   Name Type 1  Type 2  HP  Attack  Defense  Sp. Atk  \\\n",
      "0  1              Bulbasaur  Grass  Poison  45      49       49       65   \n",
      "1  2                Ivysaur  Grass  Poison  60      62       63       80   \n",
      "2  3               Venusaur  Grass  Poison  80      82       83      100   \n",
      "3  3  VenusaurMega Venusaur  Grass  Poison  80     100      123      122   \n",
      "4  4             Charmander   Fire     NaN  39      52       43       60   \n",
      "\n",
      "   Sp. Def  Speed  Generation  Legendary  Total  Total 2  \n",
      "0       65     45           1      False    318      318  \n",
      "1       80     60           1      False    405      405  \n",
      "2      100     80           1      False    525      525  \n",
      "3      120     80           1      False    625      625  \n",
      "4       50     65           1      False    309      309  \n"
     ]
    }
   ],
   "source": [
    "df['Total'] = df['HP'] + df['Attack'] + df['Defense'] + df['Sp. Atk'] + df['Sp. Def'] + df['Speed']\n",
    "\n",
    "print(f'sesudah ditambahkan column Total: \\n{df.head(5)}')\n",
    "\n",
    "df_new = df.drop(columns=['Total', 'Total 2']) #menghapus column\n",
    "\n",
    "print(f\"sesudah dihapus:\\n{df_new.head(5)}\")\n",
    "\n",
    "df['Total 2'] = df.iloc[:, 4:10].sum(axis=1)\n",
    "print(f\"sesudah ditambah column Total 2:\\n{df.head(5)}\")"
   ]
  }
 ],
 "metadata": {
  "kernelspec": {
   "display_name": "Python 3",
   "language": "python",
   "name": "python3"
  },
  "language_info": {
   "codemirror_mode": {
    "name": "ipython",
    "version": 3
   },
   "file_extension": ".py",
   "mimetype": "text/x-python",
   "name": "python",
   "nbconvert_exporter": "python",
   "pygments_lexer": "ipython3",
   "version": "3.8.8"
  },
  "orig_nbformat": 4
 },
 "nbformat": 4,
 "nbformat_minor": 2
}
